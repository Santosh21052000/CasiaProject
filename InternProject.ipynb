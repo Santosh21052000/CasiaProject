{
  "cells": [
    {
      "cell_type": "code",
      "execution_count": null,
      "metadata": {
        "id": "fHLSMFPgFdPK",
        "colab": {
          "base_uri": "https://localhost:8080/"
        },
        "outputId": "6022e8ef-946f-4f54-aac6-748947ae9558"
      },
      "outputs": [
        {
          "output_type": "stream",
          "name": "stdout",
          "text": [
            "Mounted at /content/drive\n"
          ]
        }
      ],
      "source": [
        "from google.colab import drive\n",
        "drive.mount('/content/drive')"
      ]
    },
    {
      "cell_type": "code",
      "execution_count": null,
      "metadata": {
        "id": "24itai7OvbuD"
      },
      "outputs": [],
      "source": [
        "import random\n",
        "import matplotlib.pyplot as plt\n",
        "import numpy as np\n",
        "np.random.seed(2)\n",
        "from sklearn import datasets, linear_model\n",
        "import pandas as pd\n",
        "# import sys\n",
        "# from sklearn.metrics import mean_squared_error\n",
        "import os\n",
        "from sklearn.model_selection import train_test_split\n",
        "from sklearn.metrics import confusion_matrix\n",
        "import tensorflow as tf\n",
        "from tensorflow.keras import datasets, layers, models\n",
        "from tensorflow import keras\n",
        "from keras.models import load_model\n",
        "# from tensorflow.keras.layers import BatchNormalization\n",
        "from keras.layers.pooling import MaxPooling2D, AveragePooling2D\n",
        "# from keras.callbacks import EarlyStopping\n",
        "from keras.utils.np_utils import to_categorical\n",
        "from keras.models import Sequential\n",
        "from keras.layers import Dense, Flatten, Conv2D, MaxPool2D, Dropout\n",
        "from tensorflow.keras.optimizers import Adam\n",
        "# from tensorflow.keras.optimizers import RMSprop\n",
        "# from keras.preprocessing.image import ImageDataGenerator\n",
        "# from keras.callbacks import ReduceLROnPlateau,ModelCheckpoint,EarlyStopping\n",
        "from PIL import Image, ImageChops, ImageEnhance\n",
        "# import itertools\n",
        "\n",
        "import cv2\n",
        "from tqdm import tqdm\n",
        "# from sklearn.model_selection import train_test_split\n",
        "\n",
        "from google.colab.patches import cv2_imshow\n",
        "from keras import regularizers\n",
        "from google.colab.patches import cv2_imshow\n",
        "from keras.callbacks import EarlyStopping\n",
        "from tensorflow.keras.preprocessing.image import ImageDataGenerator,array_to_img,img_to_array,load_img"
      ]
    },
    {
      "cell_type": "markdown",
      "source": [
        "Augmentation"
      ],
      "metadata": {
        "id": "OIuNi044-6FF"
      }
    },
    {
      "cell_type": "code",
      "source": [
        "#data augmentation padhna hai\n",
        "datagen=ImageDataGenerator(\n",
        "\n",
        "    # rotation_range=40,\n",
        "    # width_shift_range=0.2,\n",
        "    # height_shift_range=0.2,`1`\n",
        "    # shear_range=0.2,\n",
        "    # zoom_range=0.2,\n",
        "    # horizontal_flip=True\n",
        "    vertical_flip=True,\n",
        "    # fill_mode='nearest'\n",
        ")"
      ],
      "metadata": {
        "id": "5gsjU_I8-8so"
      },
      "execution_count": null,
      "outputs": []
    },
    {
      "cell_type": "code",
      "source": [
        "path=\"/content/drive/MyDrive/Dataset\""
      ],
      "metadata": {
        "id": "VeWqy7cCDM74"
      },
      "execution_count": null,
      "outputs": []
    },
    {
      "cell_type": "code",
      "source": [
        "os.makedirs(\"/content/drive/MyDrive/datasetaugmentss\")"
      ],
      "metadata": {
        "id": "QD_Fm9jUDNMP"
      },
      "execution_count": null,
      "outputs": []
    },
    {
      "cell_type": "code",
      "source": [
        "count=1\n",
        "for file in tqdm(os.listdir(path)):\n",
        "\n",
        "    os.makedirs(f\"/content/drive/MyDrive/datasetaugmentss/Augment_{file}\")\n",
        "#     print(file)\n",
        "    p=path+\"/\"+file\n",
        "    p2=\"/content/drive/MyDrive/datasetaugmentss\"+\"/\"+f\"Augment_{file}\"\n",
        "    for f in os.listdir(p):\n",
        "        img1=load_img(p+\"/\"+f)\n",
        "        x1=img_to_array(img1)\n",
        "        n=f.split(\".\")[0]\n",
        "        cv2.imwrite(f\"{p2}+'/'+{n}.jpg\",x1)\n",
        "        x1=x1.reshape((1,) + x1.shape)\n",
        "        i=0\n",
        "        for batch in datagen.flow(x1,batch_size=1,save_to_dir=f\"/content/drive/MyDrive/datasetaugmentss/Augment_{file}\",save_prefix=file+\"_\"+str(count),save_format='jpeg'):\n",
        "            i=i+1\n",
        "            count=count+1\n",
        "            if i==1:\n",
        "                break\n",
        "        "
      ],
      "metadata": {
        "id": "9LGtZQmTDbHn"
      },
      "execution_count": null,
      "outputs": []
    },
    {
      "cell_type": "code",
      "source": [
        "dirs=os.listdir('/content/drive/MyDrive/datasetaugmentss/Augment_spliced')"
      ],
      "metadata": {
        "id": "Hphu3GdN_Nmh"
      },
      "execution_count": null,
      "outputs": []
    },
    {
      "cell_type": "code",
      "source": [
        "\n",
        "count=0\n",
        "for i in dirs:\n",
        "  # print(i)\n",
        "  count=count+1\n",
        "print(count)"
      ],
      "metadata": {
        "id": "4lUvO81k_NpY",
        "colab": {
          "base_uri": "https://localhost:8080/"
        },
        "outputId": "285397b5-773a-47c2-b581-e4c113edbbfe"
      },
      "execution_count": null,
      "outputs": [
        {
          "output_type": "stream",
          "name": "stdout",
          "text": [
            "1828\n"
          ]
        }
      ]
    },
    {
      "cell_type": "markdown",
      "source": [
        "Segmentation"
      ],
      "metadata": {
        "id": "rQHv4ZSaDrGT"
      }
    },
    {
      "cell_type": "code",
      "execution_count": null,
      "metadata": {
        "id": "BxTAZ7_lwWwy"
      },
      "outputs": [],
      "source": [
        "#image segmentation for generalize  image object  detetion\n",
        "def Segmentation(path, quality):\n",
        "    temp_filename = 'temp_file_name.jpg'\n",
        "    # ela_filename = 'temp_ela.png'\n",
        "    \n",
        "    image = Image.open(path).convert('RGB')\n",
        "    image.save(temp_filename, 'JPEG', quality = quality)\n",
        "    temp_image = Image.open(temp_filename)\n",
        "    \n",
        "    ela_image = ImageChops.difference(image, temp_image)\n",
        "    \n",
        "    extrema = ela_image.getextrema()\n",
        "    max_diff = max([ex[1] for ex in extrema])\n",
        "    if max_diff == 0:\n",
        "        max_diff = 1\n",
        "    scale = 255.0 / max_diff\n",
        "    \n",
        "    ela_image = ImageEnhance.Brightness(ela_image).enhance(scale)\n",
        "    \n",
        "    return ela_image"
      ]
    },
    {
      "cell_type": "code",
      "execution_count": null,
      "metadata": {
        "id": "cH7WyysKwnGt",
        "colab": {
          "base_uri": "https://localhost:8080/",
          "height": 273
        },
        "outputId": "9729a0e6-15ef-499c-8c0b-90b7e1b9a233"
      },
      "outputs": [
        {
          "output_type": "execute_result",
          "data": {
            "text/plain": [
              "<PIL.JpegImagePlugin.JpegImageFile image mode=RGB size=384x256 at 0x7FC1E7000710>"
            ],
            "image/png": "[encoded data removed]"
          },
          "metadata": {},
          "execution_count": 4
        }
      ],
      "source": [
        "img = '/content/drive/MyDrive/Dataset/Au/Au_ani_00001.jpg'\n",
        "Image.open(img)"
      ]
    },
    {
      "cell_type": "code",
      "execution_count": null,
      "metadata": {
        "id": "q3XDKf1SwxUk"
      },
      "outputs": [],
      "source": [
        "img=Segmentation(img, 90)"
      ]
    },
    {
      "cell_type": "code",
      "execution_count": null,
      "metadata": {
        "id": "mhnXmdkMw2GS",
        "colab": {
          "base_uri": "https://localhost:8080/",
          "height": 273
        },
        "outputId": "4c702578-e843-4d13-edcf-b8ea459709a6"
      },
      "outputs": [
        {
          "output_type": "execute_result",
          "data": {
            "text/plain": [
              "<PIL.Image.Image image mode=RGB size=384x256 at 0x7FC1E6F912D0>"
            ],
            "image/png": "[encoded data removed]"
          },
          "metadata": {},
          "execution_count": 6
        }
      ],
      "source": [
        "img\n"
      ]
    },
    {
      "cell_type": "code",
      "execution_count": null,
      "metadata": {
        "id": "V7UrEMxrw6Qs"
      },
      "outputs": [],
      "source": [
        "image_size = (32, 32)"
      ]
    },
    {
      "cell_type": "code",
      "execution_count": null,
      "metadata": {
        "id": "fqlGQ-pew9b2"
      },
      "outputs": [],
      "source": [
        "def prepare_image(image_path):\n",
        "    return np.array(Segmentation(image_path, 90).resize(image_size)).flatten() / 255.0"
      ]
    },
    {
      "cell_type": "code",
      "execution_count": null,
      "metadata": {
        "id": "klO1PQqhxAj4"
      },
      "outputs": [],
      "source": [
        "X = [] \n",
        "Y = []"
      ]
    },
    {
      "cell_type": "code",
      "execution_count": null,
      "metadata": {
        "id": "3IRvR0UQxDxF"
      },
      "outputs": [],
      "source": [
        "path=\"/content/drive/MyDrive/Dataset/Au\""
      ]
    },
    {
      "cell_type": "code",
      "execution_count": null,
      "metadata": {
        "id": "zG_DP4A_xE1_"
      },
      "outputs": [],
      "source": [
        "dirs=os.listdir(path)"
      ]
    },
    {
      "cell_type": "code",
      "execution_count": null,
      "metadata": {
        "id": "-IUTssw5xE5N",
        "colab": {
          "base_uri": "https://localhost:8080/"
        },
        "outputId": "6a4a61e4-4f36-4858-adbc-c79ac294a112"
      },
      "outputs": [
        {
          "output_type": "stream",
          "name": "stderr",
          "text": [
            " 59%|█████▉    | 2151/3656 [01:26<00:20, 71.87it/s]/usr/local/lib/python3.7/dist-packages/PIL/TiffImagePlugin.py:770: UserWarning: Possibly corrupt EXIF data.  Expecting to read 8 bytes but only got 2. Skipping tag 41487\n",
            "  \" Skipping tag %s\" % (size, len(data), tag)\n",
            "/usr/local/lib/python3.7/dist-packages/PIL/TiffImagePlugin.py:770: UserWarning: Possibly corrupt EXIF data.  Expecting to read 8 bytes but only got 0. Skipping tag 41988\n",
            "  \" Skipping tag %s\" % (size, len(data), tag)\n",
            "100%|██████████| 3656/3656 [01:54<00:00, 31.98it/s]\n"
          ]
        }
      ],
      "source": [
        "\n",
        "for image in tqdm(dirs): \n",
        "  full_path = os.path.join(path, image)\n",
        "  X.append(prepare_image(full_path))\n",
        "  Y.append([1,0])\n",
        " "
      ]
    },
    {
      "cell_type": "code",
      "source": [
        "# !rmdir \"/content/drive/MyDrive/datasetaugmentss/Augment_Au/.ipynb_checkpoints\" "
      ],
      "metadata": {
        "id": "Gph9kQRXoKgA"
      },
      "execution_count": null,
      "outputs": []
    },
    {
      "cell_type": "code",
      "source": [
        "path=\"/content/drive/MyDrive/datasetaugmentss/Augment_Au\"\n",
        "dirs=os.listdir(path)"
      ],
      "metadata": {
        "id": "GfUS3BTVA6iw"
      },
      "execution_count": null,
      "outputs": []
    },
    {
      "cell_type": "code",
      "source": [
        "for image in tqdm(dirs):\n",
        "  full_path = os.path.join(path, image)\n",
        "  X.append(prepare_image(full_path))\n",
        "  Y.append([1,0])"
      ],
      "metadata": {
        "id": "o_pPdupYA62G"
      },
      "execution_count": null,
      "outputs": []
    },
    {
      "cell_type": "code",
      "execution_count": null,
      "metadata": {
        "id": "JM4qrbYXxE8f"
      },
      "outputs": [],
      "source": [
        "path=\"/content/drive/MyDrive/Dataset/spliced\"\n",
        "dirs=os.listdir(path)"
      ]
    },
    {
      "cell_type": "code",
      "execution_count": null,
      "metadata": {
        "id": "q_QfN_2txE__",
        "colab": {
          "base_uri": "https://localhost:8080/"
        },
        "outputId": "15fbea55-f677-4334-e822-711e9cc98173"
      },
      "outputs": [
        {
          "output_type": "stream",
          "name": "stderr",
          "text": [
            "100%|██████████| 1828/1828 [00:56<00:00, 32.38it/s]\n"
          ]
        }
      ],
      "source": [
        "\n",
        "for image in tqdm(dirs):\n",
        "  full_path = os.path.join(path, image)\n",
        "  X.append(prepare_image(full_path))\n",
        "  Y.append([0,1])"
      ]
    },
    {
      "cell_type": "code",
      "source": [
        "path=\"/content/drive/MyDrive/datasetaugmentss/Augment_spliced\"\n",
        "dirs=os.listdir(path)"
      ],
      "metadata": {
        "id": "8Es72EHEB6-5"
      },
      "execution_count": null,
      "outputs": []
    },
    {
      "cell_type": "code",
      "source": [
        "\n",
        "for image in tqdm(dirs):\n",
        "  full_path = os.path.join(path, image)\n",
        "  X.append(prepare_image(full_path))\n",
        "  Y.append([0,1])"
      ],
      "metadata": {
        "id": "-AyWa34LB7IH"
      },
      "execution_count": null,
      "outputs": []
    },
    {
      "cell_type": "code",
      "execution_count": null,
      "metadata": {
        "id": "xe7MmagexFDb"
      },
      "outputs": [],
      "source": [
        "path=\"/content/drive/MyDrive/Dataset/copymove\"\n",
        "dirs=os.listdir(path)"
      ]
    },
    {
      "cell_type": "code",
      "execution_count": null,
      "metadata": {
        "id": "HrTsRQagxFIu",
        "colab": {
          "base_uri": "https://localhost:8080/"
        },
        "outputId": "c216b92d-e2cf-475f-f476-92c2a5284b6e"
      },
      "outputs": [
        {
          "output_type": "stream",
          "name": "stderr",
          "text": [
            "100%|██████████| 1828/1828 [01:01<00:00, 29.96it/s]\n"
          ]
        }
      ],
      "source": [
        "\n",
        "for image in tqdm(dirs):\n",
        "  full_path = os.path.join(path, image)\n",
        "  X.append(prepare_image(full_path))\n",
        "  Y.append([0,1])"
      ]
    },
    {
      "cell_type": "code",
      "source": [
        "path=\"/content/drive/MyDrive/datasetaugmentss/Augment_copymove\"\n",
        "dirs=os.listdir(path)"
      ],
      "metadata": {
        "id": "DYQ3Y8SgCaND"
      },
      "execution_count": null,
      "outputs": []
    },
    {
      "cell_type": "code",
      "source": [
        "\n",
        "for image in tqdm(dirs):\n",
        "  full_path = os.path.join(path, image)\n",
        "  X.append(prepare_image(full_path))\n",
        "  Y.append([0,1])"
      ],
      "metadata": {
        "id": "lg4evkM4CaQD"
      },
      "execution_count": null,
      "outputs": []
    },
    {
      "cell_type": "code",
      "execution_count": null,
      "metadata": {
        "id": "86DxIRc4xFLn"
      },
      "outputs": [],
      "source": [
        "\n",
        "X=np.array(X)"
      ]
    },
    {
      "cell_type": "code",
      "execution_count": null,
      "metadata": {
        "id": "GMbElZLDfPf8"
      },
      "outputs": [],
      "source": [
        "Y=np.array(Y)"
      ]
    },
    {
      "cell_type": "code",
      "execution_count": null,
      "metadata": {
        "id": "q56wEl8SzNl8",
        "colab": {
          "base_uri": "https://localhost:8080/"
        },
        "outputId": "35ba4eb2-d050-466a-91dc-4716dd6c2be0"
      },
      "outputs": [
        {
          "output_type": "execute_result",
          "data": {
            "text/plain": [
              "(7312, 49152)"
            ]
          },
          "metadata": {},
          "execution_count": 19
        }
      ],
      "source": [
        "X.shape"
      ]
    },
    {
      "cell_type": "code",
      "execution_count": null,
      "metadata": {
        "id": "xvsbRqXYzYJa"
      },
      "outputs": [],
      "source": [
        "X = X.reshape(-1, 128, 128, 3)\n"
      ]
    },
    {
      "cell_type": "code",
      "execution_count": null,
      "metadata": {
        "id": "5z2qi0ctzjua",
        "colab": {
          "base_uri": "https://localhost:8080/"
        },
        "outputId": "db9b90a8-6baf-407a-acda-c085db615314"
      },
      "outputs": [
        {
          "output_type": "execute_result",
          "data": {
            "text/plain": [
              "(7312, 128, 128, 3)"
            ]
          },
          "metadata": {},
          "execution_count": 21
        }
      ],
      "source": [
        "X.shape"
      ]
    },
    {
      "cell_type": "code",
      "execution_count": null,
      "metadata": {
        "id": "1PxA7eK56CDE"
      },
      "outputs": [],
      "source": [
        "# Y = to_categorical(Y, 2)"
      ]
    },
    {
      "cell_type": "code",
      "execution_count": null,
      "metadata": {
        "id": "k95lGpL96CK0",
        "colab": {
          "base_uri": "https://localhost:8080/"
        },
        "outputId": "563c70f7-4532-401c-96a6-88eb0df79131"
      },
      "outputs": [
        {
          "output_type": "execute_result",
          "data": {
            "text/plain": [
              "(7312, 2)"
            ]
          },
          "metadata": {},
          "execution_count": 22
        }
      ],
      "source": [
        "Y.shape"
      ]
    },
    {
      "cell_type": "code",
      "execution_count": null,
      "metadata": {
        "id": "sWPMOaGFzmZG"
      },
      "outputs": [],
      "source": [
        "X_train,X_test,Y_train,Y_test=train_test_split(X,Y,test_size=0.2,random_state=42)"
      ]
    },
    {
      "cell_type": "code",
      "execution_count": null,
      "metadata": {
        "id": "SMa10iG9zxIK",
        "colab": {
          "base_uri": "https://localhost:8080/"
        },
        "outputId": "498605ce-8a93-41d6-f16c-2be1c5b197c5"
      },
      "outputs": [
        {
          "output_type": "execute_result",
          "data": {
            "text/plain": [
              "(5849, 128, 128, 3)"
            ]
          },
          "metadata": {},
          "execution_count": 24
        }
      ],
      "source": [
        "X_train.shape"
      ]
    },
    {
      "cell_type": "code",
      "execution_count": null,
      "metadata": {
        "id": "ihMJvk1Zz1-3",
        "colab": {
          "base_uri": "https://localhost:8080/"
        },
        "outputId": "358abbbc-fb04-4da3-fa74-167b2ce328e3"
      },
      "outputs": [
        {
          "output_type": "execute_result",
          "data": {
            "text/plain": [
              "(5849, 2)"
            ]
          },
          "metadata": {},
          "execution_count": 25
        }
      ],
      "source": [
        "\n",
        "Y_train.shape"
      ]
    },
    {
      "cell_type": "code",
      "execution_count": null,
      "metadata": {
        "id": "FNuFgr0Vz4yR",
        "colab": {
          "base_uri": "https://localhost:8080/"
        },
        "outputId": "532d9c03-96ca-4f8d-d40c-ba624f8324a0"
      },
      "outputs": [
        {
          "output_type": "execute_result",
          "data": {
            "text/plain": [
              "(1463, 128, 128, 3)"
            ]
          },
          "metadata": {},
          "execution_count": 26
        }
      ],
      "source": [
        "X_test.shape"
      ]
    },
    {
      "cell_type": "code",
      "execution_count": null,
      "metadata": {
        "id": "Jr4o7IeGz8OC",
        "colab": {
          "base_uri": "https://localhost:8080/"
        },
        "outputId": "41e77d46-a164-4ddd-e553-47ba05fe17fe"
      },
      "outputs": [
        {
          "output_type": "execute_result",
          "data": {
            "text/plain": [
              "(1463, 2)"
            ]
          },
          "metadata": {},
          "execution_count": 27
        }
      ],
      "source": [
        "Y_test.shape"
      ]
    },
    {
      "cell_type": "code",
      "source": [
        "#normalization (scaling down, as each number between 0-255)\n",
        "# X_train=X_train/255.0\n",
        "# Y_train=Y_train/255.0"
      ],
      "metadata": {
        "id": "bDeKZfrpnNaU"
      },
      "execution_count": null,
      "outputs": []
    },
    {
      "cell_type": "code",
      "source": [
        "#basic model for testing \n",
        "# cnn = models.Sequential([\n",
        "#     layers.Conv2D(filters=128, kernel_size=(5, 5), activation='relu', input_shape=(128, 128, 3)),\n",
        "#     layers.MaxPooling2D((2, 2)),\n",
        "    \n",
        "#     layers.Conv2D(filters=128, kernel_size=(5, 5), activation='relu'),\n",
        "#     layers.MaxPooling2D((2, 2)),\n",
        "    \n",
        "#     layers.Flatten(),\n",
        "#     layers.Dense(248, activation='relu'),\n",
        "#     layers.Dense(2, activation='softmax')\n",
        "# ])"
      ],
      "metadata": {
        "id": "rEAV2WGgk4ey"
      },
      "execution_count": null,
      "outputs": []
    },
    {
      "cell_type": "code",
      "source": [
        "# batchnormalization()"
      ],
      "metadata": {
        "id": "C91SxEXopHMi"
      },
      "execution_count": null,
      "outputs": []
    },
    {
      "cell_type": "code",
      "execution_count": null,
      "metadata": {
        "id": "Zi_wdJp60IpC"
      },
      "outputs": [],
      "source": [
        "#performing l1,l2 regularization to avoid overfitting\n",
        "cnn =models.Sequential([\n",
        "    layers.Conv2D(filters=32, kernel_size=(5, 5),padding='same' ,activation='relu', input_shape=(128, 128, 3)),\n",
        "    layers.Conv2D(filters=32, kernel_size=(5, 5),padding='same' ,activation='relu'),\n",
        "    layers.MaxPooling2D((2, 2)),\n",
        "    layers.Dropout(0.3),\n",
        "    layers.Conv2D(filters=64, kernel_size=(3, 3),padding='same' ,activation='relu'),\n",
        "    layers.MaxPooling2D(pool_size=(2, 2), strides=(2,2)),\n",
        "    layers.Dropout(0.3),\n",
        "    layers.Conv2D(filters=64, kernel_size=(3, 3),padding='same' ,activation='relu'),\n",
        "    layers.MaxPooling2D(pool_size=(2, 2), strides=(2,2)),\n",
        "    layers.Dropout(0.3),\n",
        "\n",
        "    #adding flatten\n",
        "    layers.Flatten(),\n",
        "    layers.Dense(128, activation='relu',kernel_regularizer=regularizers.l1(0.0001)),\n",
        "    Dropout(0.25),\n",
        "    layers.Dense(248, activation='relu',kernel_regularizer=regularizers.l1(0.0001)),\n",
        "    Dropout(0.25),\n",
        "    layers.Dense(2, activation='softmax')\n",
        "])"
      ]
    },
    {
      "cell_type": "code",
      "execution_count": null,
      "metadata": {
        "id": "0ni09z_f0zl9",
        "colab": {
          "base_uri": "https://localhost:8080/"
        },
        "outputId": "82415593-1af2-4d89-e4a5-675e82bd5786"
      },
      "outputs": [
        {
          "output_type": "stream",
          "name": "stdout",
          "text": [
            "Model: \"sequential\"\n",
            "_________________________________________________________________\n",
            " Layer (type)                Output Shape              Param #   \n",
            "=================================================================\n",
            " conv2d (Conv2D)             (None, 128, 128, 32)      2432      \n",
            "                                                                 \n",
            " conv2d_1 (Conv2D)           (None, 128, 128, 32)      25632     \n",
            "                                                                 \n",
            " max_pooling2d (MaxPooling2D  (None, 64, 64, 32)       0         \n",
            " )                                                               \n",
            "                                                                 \n",
            " dropout (Dropout)           (None, 64, 64, 32)        0         \n",
            "                                                                 \n",
            " conv2d_2 (Conv2D)           (None, 64, 64, 64)        18496     \n",
            "                                                                 \n",
            " max_pooling2d_1 (MaxPooling  (None, 32, 32, 64)       0         \n",
            " 2D)                                                             \n",
            "                                                                 \n",
            " dropout_1 (Dropout)         (None, 32, 32, 64)        0         \n",
            "                                                                 \n",
            " conv2d_3 (Conv2D)           (None, 32, 32, 64)        36928     \n",
            "                                                                 \n",
            " max_pooling2d_2 (MaxPooling  (None, 16, 16, 64)       0         \n",
            " 2D)                                                             \n",
            "                                                                 \n",
            " dropout_2 (Dropout)         (None, 16, 16, 64)        0         \n",
            "                                                                 \n",
            " flatten (Flatten)           (None, 16384)             0         \n",
            "                                                                 \n",
            " dense (Dense)               (None, 128)               2097280   \n",
            "                                                                 \n",
            " dropout_3 (Dropout)         (None, 128)               0         \n",
            "                                                                 \n",
            " dense_1 (Dense)             (None, 248)               31992     \n",
            "                                                                 \n",
            " dropout_4 (Dropout)         (None, 248)               0         \n",
            "                                                                 \n",
            " dense_2 (Dense)             (None, 2)                 498       \n",
            "                                                                 \n",
            "=================================================================\n",
            "Total params: 2,213,258\n",
            "Trainable params: 2,213,258\n",
            "Non-trainable params: 0\n",
            "_________________________________________________________________\n"
          ]
        }
      ],
      "source": [
        "cnn.summary()"
      ]
    },
    {
      "cell_type": "code",
      "execution_count": null,
      "metadata": {
        "id": "h5l5C69Z04LI"
      },
      "outputs": [],
      "source": [
        "epoch=200\n",
        "batch_size =8"
      ]
    },
    {
      "cell_type": "code",
      "source": [
        "init_lr = 1e-4\n",
        "optimizer = Adam(lr = init_lr, decay = init_lr/epoch)"
      ],
      "metadata": {
        "id": "flwBCngq0miH",
        "colab": {
          "base_uri": "https://localhost:8080/"
        },
        "outputId": "b507895a-278e-4993-f4a0-ae220574872a"
      },
      "execution_count": null,
      "outputs": [
        {
          "output_type": "stream",
          "name": "stderr",
          "text": [
            "/usr/local/lib/python3.7/dist-packages/keras/optimizer_v2/adam.py:105: UserWarning: The `lr` argument is deprecated, use `learning_rate` instead.\n",
            "  super(Adam, self).__init__(name, **kwargs)\n"
          ]
        }
      ]
    },
    {
      "cell_type": "code",
      "execution_count": null,
      "metadata": {
        "id": "bfWPq5-L0_kF"
      },
      "outputs": [],
      "source": [
        "# optimizer = Adam()\n",
        "cnn.compile(optimizer = optimizer , loss = \"binary_crossentropy\", metrics=[\"accuracy\"])"
      ]
    },
    {
      "cell_type": "code",
      "source": [
        "early_stopping = EarlyStopping(monitor = 'val_accuracy',\n",
        "                              min_delta=0.001,\n",
        "                              patience =10,\n",
        "                              verbose = 0,\n",
        "                              mode='max')"
      ],
      "metadata": {
        "id": "VnGyv19mH6v-"
      },
      "execution_count": null,
      "outputs": []
    },
    {
      "cell_type": "code",
      "execution_count": null,
      "metadata": {
        "id": "LNo6D3bN1C-d",
        "colab": {
          "base_uri": "https://localhost:8080/"
        },
        "outputId": "d1e44079-142b-43aa-b473-72b225adcb38"
      },
      "outputs": [
        {
          "output_type": "stream",
          "name": "stdout",
          "text": [
            "Epoch 1/200\n",
            "732/732 [==============================] - 26s 18ms/step - loss: 0.9809 - accuracy: 0.7097 - val_loss: 0.6167 - val_accuracy: 0.8052\n",
            "Epoch 2/200\n",
            "732/732 [==============================] - 12s 16ms/step - loss: 0.5577 - accuracy: 0.8099 - val_loss: 0.5178 - val_accuracy: 0.8257\n",
            "Epoch 3/200\n",
            "732/732 [==============================] - 12s 16ms/step - loss: 0.5096 - accuracy: 0.8184 - val_loss: 0.5294 - val_accuracy: 0.7984\n",
            "Epoch 4/200\n",
            "732/732 [==============================] - 12s 17ms/step - loss: 0.4902 - accuracy: 0.8171 - val_loss: 0.4804 - val_accuracy: 0.8237\n",
            "Epoch 5/200\n",
            "732/732 [==============================] - 12s 16ms/step - loss: 0.4676 - accuracy: 0.8268 - val_loss: 0.4723 - val_accuracy: 0.8257\n",
            "Epoch 6/200\n",
            "732/732 [==============================] - 12s 16ms/step - loss: 0.4591 - accuracy: 0.8282 - val_loss: 0.4592 - val_accuracy: 0.8284\n",
            "Epoch 7/200\n",
            "732/732 [==============================] - 12s 17ms/step - loss: 0.4444 - accuracy: 0.8277 - val_loss: 0.4300 - val_accuracy: 0.8380\n",
            "Epoch 8/200\n",
            "732/732 [==============================] - 12s 16ms/step - loss: 0.4390 - accuracy: 0.8275 - val_loss: 0.4332 - val_accuracy: 0.8353\n",
            "Epoch 9/200\n",
            "732/732 [==============================] - 13s 18ms/step - loss: 0.4345 - accuracy: 0.8316 - val_loss: 0.4215 - val_accuracy: 0.8360\n",
            "Epoch 10/200\n",
            "732/732 [==============================] - 12s 17ms/step - loss: 0.4218 - accuracy: 0.8287 - val_loss: 0.4267 - val_accuracy: 0.8353\n",
            "Epoch 11/200\n",
            "732/732 [==============================] - 12s 17ms/step - loss: 0.4226 - accuracy: 0.8359 - val_loss: 0.4053 - val_accuracy: 0.8435\n",
            "Epoch 12/200\n",
            "732/732 [==============================] - 12s 17ms/step - loss: 0.4206 - accuracy: 0.8379 - val_loss: 0.4163 - val_accuracy: 0.8407\n",
            "Epoch 13/200\n",
            "732/732 [==============================] - 12s 17ms/step - loss: 0.4104 - accuracy: 0.8437 - val_loss: 0.4203 - val_accuracy: 0.8278\n",
            "Epoch 14/200\n",
            "732/732 [==============================] - 12s 16ms/step - loss: 0.4106 - accuracy: 0.8424 - val_loss: 0.4021 - val_accuracy: 0.8435\n",
            "Epoch 15/200\n",
            "732/732 [==============================] - 12s 16ms/step - loss: 0.4013 - accuracy: 0.8478 - val_loss: 0.3976 - val_accuracy: 0.8503\n",
            "Epoch 16/200\n",
            "732/732 [==============================] - 12s 16ms/step - loss: 0.3961 - accuracy: 0.8463 - val_loss: 0.3863 - val_accuracy: 0.8565\n",
            "Epoch 17/200\n",
            "732/732 [==============================] - 12s 16ms/step - loss: 0.3987 - accuracy: 0.8437 - val_loss: 0.4309 - val_accuracy: 0.8284\n",
            "Epoch 18/200\n",
            "732/732 [==============================] - 12s 16ms/step - loss: 0.3906 - accuracy: 0.8413 - val_loss: 0.4839 - val_accuracy: 0.7915\n",
            "Epoch 19/200\n",
            "732/732 [==============================] - 12s 16ms/step - loss: 0.3857 - accuracy: 0.8499 - val_loss: 0.4036 - val_accuracy: 0.8435\n",
            "Epoch 20/200\n",
            "732/732 [==============================] - 12s 17ms/step - loss: 0.3950 - accuracy: 0.8420 - val_loss: 0.3836 - val_accuracy: 0.8571\n",
            "Epoch 21/200\n",
            "732/732 [==============================] - 12s 17ms/step - loss: 0.3793 - accuracy: 0.8513 - val_loss: 0.4140 - val_accuracy: 0.8339\n",
            "Epoch 22/200\n",
            "732/732 [==============================] - 12s 16ms/step - loss: 0.3788 - accuracy: 0.8514 - val_loss: 0.4129 - val_accuracy: 0.8373\n",
            "Epoch 23/200\n",
            "732/732 [==============================] - 12s 17ms/step - loss: 0.3784 - accuracy: 0.8586 - val_loss: 0.3806 - val_accuracy: 0.8476\n",
            "Epoch 24/200\n",
            "732/732 [==============================] - 12s 16ms/step - loss: 0.3714 - accuracy: 0.8569 - val_loss: 0.3723 - val_accuracy: 0.8612\n",
            "Epoch 25/200\n",
            "732/732 [==============================] - 12s 17ms/step - loss: 0.3715 - accuracy: 0.8523 - val_loss: 0.3680 - val_accuracy: 0.8558\n",
            "Epoch 26/200\n",
            "732/732 [==============================] - 12s 17ms/step - loss: 0.3746 - accuracy: 0.8518 - val_loss: 0.3704 - val_accuracy: 0.8496\n",
            "Epoch 27/200\n",
            "732/732 [==============================] - 13s 17ms/step - loss: 0.3698 - accuracy: 0.8581 - val_loss: 0.3726 - val_accuracy: 0.8510\n",
            "Epoch 28/200\n",
            "732/732 [==============================] - 12s 17ms/step - loss: 0.3664 - accuracy: 0.8542 - val_loss: 0.3714 - val_accuracy: 0.8612\n",
            "Epoch 29/200\n",
            "732/732 [==============================] - 12s 17ms/step - loss: 0.3700 - accuracy: 0.8557 - val_loss: 0.3881 - val_accuracy: 0.8414\n",
            "Epoch 30/200\n",
            "732/732 [==============================] - 12s 16ms/step - loss: 0.3599 - accuracy: 0.8578 - val_loss: 0.3860 - val_accuracy: 0.8544\n",
            "Epoch 31/200\n",
            "732/732 [==============================] - 12s 17ms/step - loss: 0.3581 - accuracy: 0.8578 - val_loss: 0.3651 - val_accuracy: 0.8551\n",
            "Epoch 32/200\n",
            "732/732 [==============================] - 12s 17ms/step - loss: 0.3630 - accuracy: 0.8584 - val_loss: 0.3612 - val_accuracy: 0.8558\n",
            "Epoch 33/200\n",
            "732/732 [==============================] - 12s 16ms/step - loss: 0.3554 - accuracy: 0.8629 - val_loss: 0.3588 - val_accuracy: 0.8626\n",
            "Epoch 34/200\n",
            "732/732 [==============================] - 12s 16ms/step - loss: 0.3486 - accuracy: 0.8651 - val_loss: 0.3587 - val_accuracy: 0.8544\n",
            "Epoch 35/200\n",
            "732/732 [==============================] - 12s 16ms/step - loss: 0.3471 - accuracy: 0.8656 - val_loss: 0.4316 - val_accuracy: 0.8401\n",
            "Epoch 36/200\n",
            "732/732 [==============================] - 12s 16ms/step - loss: 0.3544 - accuracy: 0.8601 - val_loss: 0.3714 - val_accuracy: 0.8571\n",
            "Epoch 37/200\n",
            "732/732 [==============================] - 12s 16ms/step - loss: 0.3452 - accuracy: 0.8644 - val_loss: 0.3741 - val_accuracy: 0.8551\n",
            "Epoch 38/200\n",
            "732/732 [==============================] - 12s 16ms/step - loss: 0.3446 - accuracy: 0.8663 - val_loss: 0.3811 - val_accuracy: 0.8353\n",
            "Epoch 39/200\n",
            "732/732 [==============================] - 12s 16ms/step - loss: 0.3482 - accuracy: 0.8636 - val_loss: 0.3687 - val_accuracy: 0.8524\n",
            "Epoch 40/200\n",
            "732/732 [==============================] - 12s 17ms/step - loss: 0.3397 - accuracy: 0.8639 - val_loss: 0.3601 - val_accuracy: 0.8537\n",
            "Epoch 41/200\n",
            "732/732 [==============================] - 12s 17ms/step - loss: 0.3340 - accuracy: 0.8682 - val_loss: 0.3817 - val_accuracy: 0.8599\n",
            "Epoch 42/200\n",
            "732/732 [==============================] - 12s 17ms/step - loss: 0.3342 - accuracy: 0.8726 - val_loss: 0.3577 - val_accuracy: 0.8599\n",
            "Epoch 43/200\n",
            "732/732 [==============================] - 12s 16ms/step - loss: 0.3255 - accuracy: 0.8747 - val_loss: 0.3552 - val_accuracy: 0.8599\n"
          ]
        }
      ],
      "source": [
        "fit=cnn.fit(X_train, Y_train, epochs=epoch,batch_size =batch_size,validation_data=(X_test, Y_test),callbacks = [early_stopping])"
      ]
    },
    {
      "cell_type": "code",
      "execution_count": null,
      "metadata": {
        "id": "Ug3i0c_e1GXC",
        "colab": {
          "base_uri": "https://localhost:8080/"
        },
        "outputId": "f9f10527-bf4b-4e7b-c7a9-cfd104cbecdb"
      },
      "outputs": [
        {
          "output_type": "stream",
          "name": "stdout",
          "text": [
            "46/46 [==============================] - 1s 20ms/step - loss: 0.3552 - accuracy: 0.8599\n"
          ]
        }
      ],
      "source": [
        "score=cnn.evaluate(X_test,Y_test)"
      ]
    },
    {
      "cell_type": "code",
      "execution_count": null,
      "metadata": {
        "id": "sdVwL4ldChjb",
        "colab": {
          "base_uri": "https://localhost:8080/"
        },
        "outputId": "ae01fb45-dc0f-41f7-a6bd-178831be09fa"
      },
      "outputs": [
        {
          "output_type": "stream",
          "name": "stdout",
          "text": [
            "Accuracy:85.99%\n"
          ]
        }
      ],
      "source": [
        "# model accuracy\n",
        "print(\"Accuracy:%.2f%%\" % (score[1]*100))"
      ]
    },
    {
      "cell_type": "code",
      "source": [
        "print(fit.history.keys())"
      ],
      "metadata": {
        "id": "j2uizA847vtP",
        "colab": {
          "base_uri": "https://localhost:8080/"
        },
        "outputId": "e6bac28c-500e-4ece-b26a-730707501c2b"
      },
      "execution_count": null,
      "outputs": [
        {
          "output_type": "stream",
          "name": "stdout",
          "text": [
            "dict_keys(['loss', 'accuracy', 'val_loss', 'val_accuracy'])\n"
          ]
        }
      ]
    },
    {
      "cell_type": "code",
      "source": [
        "plt.plot(fit.history['accuracy'])\n",
        "plt.plot(fit.history['val_accuracy'])\n",
        "plt.title('model accuracy')\n",
        "plt.ylabel('accuracy')\n",
        "plt.xlabel('epoch')\n",
        "plt.legend(['train_acc', 'test_acc'], loc='upper left')\n",
        "plt.show()"
      ],
      "metadata": {
        "id": "z2i-Zv-V96NV",
        "colab": {
          "base_uri": "https://localhost:8080/",
          "height": 295
        },
        "outputId": "548bd33d-4d2d-4af0-a702-69ebe53c929d"
      },
      "execution_count": null,
      "outputs": [
        {
          "output_type": "display_data",
          "data": {
            "text/plain": [
              "<Figure size 432x288 with 1 Axes>"
            ],
            "image/png": "[encoded data removed]"
          },
          "metadata": {
            "needs_background": "light"
          }
        }
      ]
    },
    {
      "cell_type": "code",
      "source": [
        "plt.plot(fit.history['loss'])\n",
        "plt.plot(fit.history['val_loss'])\n",
        "plt.title('model loss')\n",
        "plt.ylabel('loss')\n",
        "plt.xlabel('epoch')\n",
        "plt.legend(['train_loss', 'test_loss'], loc='upper left')\n",
        "plt.show()"
      ],
      "metadata": {
        "id": "rJbdyf6f-b_i",
        "colab": {
          "base_uri": "https://localhost:8080/",
          "height": 295
        },
        "outputId": "5b024e5d-edad-4613-e9be-d62529aee228"
      },
      "execution_count": null,
      "outputs": [
        {
          "output_type": "display_data",
          "data": {
            "text/plain": [
              "<Figure size 432x288 with 1 Axes>"
            ],
            "image/png": "[encoded data removed]"
          },
          "metadata": {
            "needs_background": "light"
          }
        }
      ]
    },
    {
      "cell_type": "code",
      "source": [
        "y_pred = cnn.predict(X_test)\n",
        "y_pred[:5]"
      ],
      "metadata": {
        "id": "mY-GWDAi_ISx",
        "colab": {
          "base_uri": "https://localhost:8080/"
        },
        "outputId": "3ac66915-c3fb-459d-dc2f-aeec9fa5d960"
      },
      "execution_count": null,
      "outputs": [
        {
          "output_type": "execute_result",
          "data": {
            "text/plain": [
              "array([[9.9972004e-01, 2.7988470e-04],\n",
              "       [1.6515486e-02, 9.8348457e-01],\n",
              "       [2.7900714e-02, 9.7209924e-01],\n",
              "       [2.2619709e-02, 9.7738034e-01],\n",
              "       [8.0970960e-04, 9.9919027e-01]], dtype=float32)"
            ]
          },
          "metadata": {},
          "execution_count": 40
        }
      ]
    },
    {
      "cell_type": "code",
      "source": [
        "y_pred=[np.argmax(element) for element in y_pred]\n",
        "y_pred[:10]"
      ],
      "metadata": {
        "id": "jqJQ686oPd_h",
        "colab": {
          "base_uri": "https://localhost:8080/"
        },
        "outputId": "4b3ad4d2-79fc-484b-bd19-909a0453cf97"
      },
      "execution_count": null,
      "outputs": [
        {
          "output_type": "execute_result",
          "data": {
            "text/plain": [
              "[0, 1, 1, 1, 1, 0, 1, 0, 1, 0]"
            ]
          },
          "metadata": {},
          "execution_count": 41
        }
      ]
    },
    {
      "cell_type": "code",
      "source": [
        "Y_test[0]"
      ],
      "metadata": {
        "id": "mSlc9BGRGQuK",
        "colab": {
          "base_uri": "https://localhost:8080/"
        },
        "outputId": "4c6210f9-c8f0-4c9e-a4a9-4088762ecdf9"
      },
      "execution_count": null,
      "outputs": [
        {
          "output_type": "execute_result",
          "data": {
            "text/plain": [
              "array([1, 0])"
            ]
          },
          "metadata": {},
          "execution_count": 42
        }
      ]
    },
    {
      "cell_type": "code",
      "source": [
        "y_test=[np.argmax(element) for element in Y_test]\n",
        "y_test[:10]"
      ],
      "metadata": {
        "id": "_fUAEY8mPqlv",
        "colab": {
          "base_uri": "https://localhost:8080/"
        },
        "outputId": "7af2586e-0e7b-4108-f739-3384cbe642ff"
      },
      "execution_count": null,
      "outputs": [
        {
          "output_type": "execute_result",
          "data": {
            "text/plain": [
              "[0, 0, 1, 1, 1, 0, 1, 0, 1, 0]"
            ]
          },
          "metadata": {},
          "execution_count": 43
        }
      ]
    },
    {
      "cell_type": "code",
      "source": [
        "def perf_measure(y_actual, y_hat):\n",
        "    TP = 0\n",
        "    FP = 0\n",
        "    TN = 0\n",
        "    FN = 0\n",
        "\n",
        "    for i in range(len(y_hat)): \n",
        "        if y_actual[i]==y_hat[i]==1:\n",
        "           TP += 1\n",
        "        if y_hat[i]==1 and y_actual[i]!=y_hat[i]:\n",
        "           FP += 1\n",
        "        if y_actual[i]==y_hat[i]==0:\n",
        "           TN += 1\n",
        "        if y_hat[i]==0 and y_actual[i]!=y_hat[i]:\n",
        "           FN += 1\n",
        "    return(TP, FP, TN, FN)\n",
        "\n",
        "\n",
        "tp, fp, tn, fn =perf_measure(y_test,y_pred)    \n",
        "print(\"TP: \",tp);    \n",
        "print(\"FP: \",fp);  \n",
        "print(\"TN: \",tn);  \n",
        "print(\"FN: \",fn);  "
      ],
      "metadata": {
        "id": "6VqLsxBmRUtv",
        "colab": {
          "base_uri": "https://localhost:8080/"
        },
        "outputId": "2b7aa51b-6c18-44ee-8a9f-974f375aa59f"
      },
      "execution_count": null,
      "outputs": [
        {
          "output_type": "stream",
          "name": "stdout",
          "text": [
            "TP:  671\n",
            "FP:  141\n",
            "TN:  587\n",
            "FN:  64\n"
          ]
        }
      ]
    },
    {
      "cell_type": "code",
      "source": [
        "matrix=tf.math.confusion_matrix(labels=y_test,predictions=y_pred)\n",
        "matrix"
      ],
      "metadata": {
        "id": "yUfeu3Wo_vUe",
        "colab": {
          "base_uri": "https://localhost:8080/"
        },
        "outputId": "6450278f-3b7e-4c1c-b133-b10f8e6bc2aa"
      },
      "execution_count": null,
      "outputs": [
        {
          "output_type": "execute_result",
          "data": {
            "text/plain": [
              "<tf.Tensor: shape=(2, 2), dtype=int32, numpy=\n",
              "array([[587, 141],\n",
              "       [ 64, 671]], dtype=int32)>"
            ]
          },
          "metadata": {},
          "execution_count": 45
        }
      ]
    },
    {
      "cell_type": "code",
      "source": [
        "from sklearn.metrics import classification_report\n",
        "\n",
        "print(classification_report(y_test, y_pred)) "
      ],
      "metadata": {
        "id": "ib4XXDEnU9Kd",
        "colab": {
          "base_uri": "https://localhost:8080/"
        },
        "outputId": "9faf4ca4-81ac-4866-ef29-70186ca41b6c"
      },
      "execution_count": null,
      "outputs": [
        {
          "output_type": "stream",
          "name": "stdout",
          "text": [
            "              precision    recall  f1-score   support\n",
            "\n",
            "           0       0.90      0.81      0.85       728\n",
            "           1       0.83      0.91      0.87       735\n",
            "\n",
            "    accuracy                           0.86      1463\n",
            "   macro avg       0.86      0.86      0.86      1463\n",
            "weighted avg       0.86      0.86      0.86      1463\n",
            "\n"
          ]
        }
      ]
    },
    {
      "cell_type": "code",
      "source": [
        "import seaborn as sns\n",
        "plt.figure(figsize=(10,7))\n",
        "sns.heatmap(matrix,annot=True,fmt=\"d\")\n",
        "plt.xlabel('predicted')\n",
        "plt.ylabel('Truth')"
      ],
      "metadata": {
        "id": "3PvWHLv2AEvA",
        "colab": {
          "base_uri": "https://localhost:8080/",
          "height": 459
        },
        "outputId": "e704e594-6791-485c-e0ea-f7ff5d62c364"
      },
      "execution_count": null,
      "outputs": [
        {
          "output_type": "execute_result",
          "data": {
            "text/plain": [
              "Text(69.0, 0.5, 'Truth')"
            ]
          },
          "metadata": {},
          "execution_count": 47
        },
        {
          "output_type": "display_data",
          "data": {
            "text/plain": [
              "<Figure size 720x504 with 2 Axes>"
            ],
            "image/png": "[encoded data removed]"
          },
          "metadata": {
            "needs_background": "light"
          }
        }
      ]
    },
    {
      "cell_type": "code",
      "source": [
        "# cv2_imshow(X_train[0])\n",
        "# for i in range(5):\n",
        "#   cv2_imshow(X_train[i+5000])\n",
        "#   # print(Y_train[i])\n",
        "#   if np.argmax(Y_train[i+5000])==0:\n",
        "#     print(\"LABEL: Authentic\")\n",
        "#   elif np.argmax(Y_train[i+5000])==1:\n",
        "#     print(\"LABEL: TEMPERED\")\n",
        "# elif np.argmax(Y_train[i+5000])==2:\n",
        "#   print(\"LABEL:CO)PY MOVED\""
      ],
      "metadata": {
        "id": "cr2SXTXym3F6"
      },
      "execution_count": null,
      "outputs": []
    },
    {
      "cell_type": "code",
      "source": [
        "classes=[\"Authentic\",\"Forged\"]"
      ],
      "metadata": {
        "id": "4oMPca90AI00"
      },
      "execution_count": null,
      "outputs": []
    },
    {
      "cell_type": "code",
      "source": [
        "classes[y_pred[2]]\n"
      ],
      "metadata": {
        "id": "9wE0SGHODqZs",
        "colab": {
          "base_uri": "https://localhost:8080/",
          "height": 36
        },
        "outputId": "e102a202-70f2-4d03-af05-67d0b44d313c"
      },
      "execution_count": null,
      "outputs": [
        {
          "output_type": "execute_result",
          "data": {
            "text/plain": [
              "'Forged'"
            ],
            "application/vnd.google.colaboratory.intrinsic+json": {
              "type": "string"
            }
          },
          "metadata": {},
          "execution_count": 49
        }
      ]
    },
    {
      "cell_type": "code",
      "source": [
        "classes[y_test[2]]"
      ],
      "metadata": {
        "id": "X8Xz8XTsFLST",
        "colab": {
          "base_uri": "https://localhost:8080/",
          "height": 36
        },
        "outputId": "d4825dda-0331-40b6-cc78-d0b429e088e6"
      },
      "execution_count": null,
      "outputs": [
        {
          "output_type": "execute_result",
          "data": {
            "text/plain": [
              "'Forged'"
            ],
            "application/vnd.google.colaboratory.intrinsic+json": {
              "type": "string"
            }
          },
          "metadata": {},
          "execution_count": 50
        }
      ]
    },
    {
      "cell_type": "code",
      "source": [
        "model_json=cnn.to_json()\n",
        "with open('/content/drive/MyDrive/Colab Notebooks/model.json','w') as json_file:\n",
        "  json_file.write(model_json)"
      ],
      "metadata": {
        "id": "zr5O7tkAFRSh"
      },
      "execution_count": null,
      "outputs": []
    },
    {
      "cell_type": "code",
      "source": [
        "cnn.save_weights('/content/drive/MyDrive/Colab Notebooks/model.h5')"
      ],
      "metadata": {
        "id": "unkp2-DOXaIg"
      },
      "execution_count": null,
      "outputs": []
    },
    {
      "cell_type": "code",
      "source": [
        ""
      ],
      "metadata": {
        "id": "ThD13vhsAZu2"
      },
      "execution_count": null,
      "outputs": []
    },
    {
      "cell_type": "code",
      "source": [
        ""
      ],
      "metadata": {
        "id": "AFLiKyUbAZ2b"
      },
      "execution_count": null,
      "outputs": []
    },
    {
      "cell_type": "markdown",
      "source": [
        "second part- Identifying Between forged and spliced image"
      ],
      "metadata": {
        "id": "dgRj03ZbrwMG"
      }
    },
    {
      "cell_type": "code",
      "source": [
        "X = [] \n",
        "Y = []"
      ],
      "metadata": {
        "id": "j9jh0bCdX3Qr"
      },
      "execution_count": null,
      "outputs": []
    },
    {
      "cell_type": "code",
      "source": [
        "path=\"/content/drive/MyDrive/Dataset/spliced\"\n",
        "dirs=os.listdir(path)"
      ],
      "metadata": {
        "id": "oE9ty1OT_cly"
      },
      "execution_count": null,
      "outputs": []
    },
    {
      "cell_type": "code",
      "source": [
        "for image in tqdm(dirs):\n",
        "  full_path = os.path.join(path, image)\n",
        "  X.append(prepare_image(full_path))\n",
        "  Y.append([1,0])"
      ],
      "metadata": {
        "id": "s4VanQar_v48",
        "colab": {
          "base_uri": "https://localhost:8080/"
        },
        "outputId": "77cc1543-36d8-4b31-b3af-96d6dc6e5a46"
      },
      "execution_count": null,
      "outputs": [
        {
          "output_type": "stream",
          "name": "stderr",
          "text": [
            "100%|██████████| 1828/1828 [00:43<00:00, 41.83it/s]\n"
          ]
        }
      ]
    },
    {
      "cell_type": "code",
      "source": [
        "path=\"/content/drive/MyDrive/Dataset/copymove\"\n",
        "dirs=os.listdir(path)"
      ],
      "metadata": {
        "id": "RRwAWvkbAjls"
      },
      "execution_count": null,
      "outputs": []
    },
    {
      "cell_type": "code",
      "source": [
        "for image in tqdm(dirs):\n",
        "  full_path = os.path.join(path, image)\n",
        "  X.append(prepare_image(full_path))\n",
        "  Y.append([0,1])"
      ],
      "metadata": {
        "colab": {
          "base_uri": "https://localhost:8080/"
        },
        "id": "i9J_lh2Gsbjb",
        "outputId": "952932c3-4d55-4e1e-f39d-835c40ccfebd"
      },
      "execution_count": null,
      "outputs": [
        {
          "output_type": "stream",
          "name": "stderr",
          "text": [
            "100%|██████████| 1828/1828 [00:47<00:00, 38.10it/s]\n"
          ]
        }
      ]
    },
    {
      "cell_type": "code",
      "source": [
        "X=np.array(X)"
      ],
      "metadata": {
        "id": "eS_BTsl5svT1"
      },
      "execution_count": null,
      "outputs": []
    },
    {
      "cell_type": "code",
      "source": [
        "Y=np.array(Y)"
      ],
      "metadata": {
        "id": "tvEggDFItMC9"
      },
      "execution_count": null,
      "outputs": []
    },
    {
      "cell_type": "code",
      "source": [
        "X.shape"
      ],
      "metadata": {
        "colab": {
          "base_uri": "https://localhost:8080/"
        },
        "id": "_rZw1Jg5tQa_",
        "outputId": "139502cd-2f09-4823-cf50-2602effe1768"
      },
      "execution_count": null,
      "outputs": [
        {
          "output_type": "execute_result",
          "data": {
            "text/plain": [
              "(3656, 3072)"
            ]
          },
          "metadata": {},
          "execution_count": 106
        }
      ]
    },
    {
      "cell_type": "code",
      "source": [
        "X = X.reshape(-1, 32, 32, 3)\n"
      ],
      "metadata": {
        "id": "JF5I1TTJtTW2"
      },
      "execution_count": null,
      "outputs": []
    },
    {
      "cell_type": "code",
      "source": [
        "X.shape"
      ],
      "metadata": {
        "colab": {
          "base_uri": "https://localhost:8080/"
        },
        "id": "qF1oSjpRtyOz",
        "outputId": "43817570-759a-4d03-e55b-37eda863c852"
      },
      "execution_count": null,
      "outputs": [
        {
          "output_type": "execute_result",
          "data": {
            "text/plain": [
              "(3656, 32, 32, 3)"
            ]
          },
          "metadata": {},
          "execution_count": 108
        }
      ]
    },
    {
      "cell_type": "code",
      "source": [
        "Y.shape"
      ],
      "metadata": {
        "colab": {
          "base_uri": "https://localhost:8080/"
        },
        "id": "eTFPN8VhtWdz",
        "outputId": "75159b74-889a-4137-cb3b-c7bf4a3e6da9"
      },
      "execution_count": null,
      "outputs": [
        {
          "output_type": "execute_result",
          "data": {
            "text/plain": [
              "(3656, 2)"
            ]
          },
          "metadata": {},
          "execution_count": 109
        }
      ]
    },
    {
      "cell_type": "code",
      "source": [
        "X_train,X_test,Y_train,Y_test=train_test_split(X,Y,test_size=0.2,random_state=42)"
      ],
      "metadata": {
        "id": "crNE2gprttOE"
      },
      "execution_count": null,
      "outputs": []
    },
    {
      "cell_type": "code",
      "source": [
        "X_train.shape"
      ],
      "metadata": {
        "colab": {
          "base_uri": "https://localhost:8080/"
        },
        "id": "CeGKMBq8t3T9",
        "outputId": "369c5bbf-76f5-4781-9be1-7d44e5abb2c1"
      },
      "execution_count": null,
      "outputs": [
        {
          "output_type": "execute_result",
          "data": {
            "text/plain": [
              "(2924, 32, 32, 3)"
            ]
          },
          "metadata": {},
          "execution_count": 111
        }
      ]
    },
    {
      "cell_type": "code",
      "source": [
        "\n",
        "Y_train.shape"
      ],
      "metadata": {
        "colab": {
          "base_uri": "https://localhost:8080/"
        },
        "id": "2WgCjoxOt64C",
        "outputId": "121e33a9-7644-49f8-9aa6-da432a62a258"
      },
      "execution_count": null,
      "outputs": [
        {
          "output_type": "execute_result",
          "data": {
            "text/plain": [
              "(2924, 2)"
            ]
          },
          "metadata": {},
          "execution_count": 112
        }
      ]
    },
    {
      "cell_type": "code",
      "source": [
        "#performing l1,l2 regularization to avoid overfitting\n",
        "cnn =models.Sequential([\n",
        "    layers.Conv2D(filters=32, kernel_size=(3, 3),padding='same' ,activation='relu', input_shape=(32, 32, 3)),\n",
        "    layers.Conv2D(filters=32, kernel_size=(3, 3),padding='same' ,activation='relu'),\n",
        "    layers.MaxPooling2D((2, 2)),\n",
        "    layers.Dropout(0.3),\n",
        "    layers.Conv2D(filters=64, kernel_size=(3, 3),padding='same' ,activation='relu'),\n",
        "    layers.MaxPooling2D(pool_size=(2, 2), strides=(2,2)),\n",
        "    layers.Dropout(0.3),\n",
        "    layers.Conv2D(filters=64, kernel_size=(3, 3),padding='same' ,activation='relu'),\n",
        "    layers.MaxPooling2D(pool_size=(2, 2), strides=(2,2)),\n",
        "    layers.Dropout(0.3),\n",
        "\n",
        "    #adding flatten\n",
        "    layers.Flatten(),\n",
        "    layers.Dense(64, activation='relu',kernel_regularizer=regularizers.l1(0.0001)),\n",
        "    layers.Dense(2, activation='softmax')\n",
        "])"
      ],
      "metadata": {
        "id": "kZHDEOLHuCm4"
      },
      "execution_count": null,
      "outputs": []
    },
    {
      "cell_type": "code",
      "source": [
        "cnn.summary()"
      ],
      "metadata": {
        "colab": {
          "base_uri": "https://localhost:8080/"
        },
        "id": "nr-AdsjyuOT2",
        "outputId": "1a39ee69-7e42-4094-cbc3-3653cdd27c34"
      },
      "execution_count": null,
      "outputs": [
        {
          "output_type": "stream",
          "name": "stdout",
          "text": [
            "Model: \"sequential_5\"\n",
            "_________________________________________________________________\n",
            " Layer (type)                Output Shape              Param #   \n",
            "=================================================================\n",
            " conv2d_20 (Conv2D)          (None, 32, 32, 32)        896       \n",
            "                                                                 \n",
            " conv2d_21 (Conv2D)          (None, 32, 32, 32)        9248      \n",
            "                                                                 \n",
            " max_pooling2d_15 (MaxPoolin  (None, 16, 16, 32)       0         \n",
            " g2D)                                                            \n",
            "                                                                 \n",
            " dropout_24 (Dropout)        (None, 16, 16, 32)        0         \n",
            "                                                                 \n",
            " conv2d_22 (Conv2D)          (None, 16, 16, 64)        18496     \n",
            "                                                                 \n",
            " max_pooling2d_16 (MaxPoolin  (None, 8, 8, 64)         0         \n",
            " g2D)                                                            \n",
            "                                                                 \n",
            " dropout_25 (Dropout)        (None, 8, 8, 64)          0         \n",
            "                                                                 \n",
            " conv2d_23 (Conv2D)          (None, 8, 8, 64)          36928     \n",
            "                                                                 \n",
            " max_pooling2d_17 (MaxPoolin  (None, 4, 4, 64)         0         \n",
            " g2D)                                                            \n",
            "                                                                 \n",
            " dropout_26 (Dropout)        (None, 4, 4, 64)          0         \n",
            "                                                                 \n",
            " flatten_5 (Flatten)         (None, 1024)              0         \n",
            "                                                                 \n",
            " dense_14 (Dense)            (None, 32)                32800     \n",
            "                                                                 \n",
            " dropout_27 (Dropout)        (None, 32)                0         \n",
            "                                                                 \n",
            " dense_15 (Dense)            (None, 2)                 66        \n",
            "                                                                 \n",
            "=================================================================\n",
            "Total params: 98,434\n",
            "Trainable params: 98,434\n",
            "Non-trainable params: 0\n",
            "_________________________________________________________________\n"
          ]
        }
      ]
    },
    {
      "cell_type": "code",
      "source": [
        "\n",
        "epoch=100\n",
        "batch_size =8"
      ],
      "metadata": {
        "id": "9VsDrdb8uRrn"
      },
      "execution_count": null,
      "outputs": []
    },
    {
      "cell_type": "code",
      "source": [
        "init_lr = 1e-4\n",
        "optimizer = Adam(lr = init_lr, decay = init_lr/epoch)"
      ],
      "metadata": {
        "colab": {
          "base_uri": "https://localhost:8080/"
        },
        "id": "IecdJh0XuXZ2",
        "outputId": "518321c6-25de-4169-b7dc-199e30761a2e"
      },
      "execution_count": null,
      "outputs": [
        {
          "output_type": "stream",
          "name": "stderr",
          "text": [
            "/usr/local/lib/python3.7/dist-packages/keras/optimizer_v2/adam.py:105: UserWarning: The `lr` argument is deprecated, use `learning_rate` instead.\n",
            "  super(Adam, self).__init__(name, **kwargs)\n"
          ]
        }
      ]
    },
    {
      "cell_type": "code",
      "source": [
        "# optimizer = Adam()\n",
        "cnn.compile(optimizer = optimizer , loss = \"binary_crossentropy\", metrics=[\"accuracy\"])"
      ],
      "metadata": {
        "id": "Mxgj_PG2uYRG"
      },
      "execution_count": null,
      "outputs": []
    },
    {
      "cell_type": "code",
      "source": [
        "# early_stopping = EarlyStopping(monitor = 'val_accuracy',\n",
        "#                               min_delta=0.001,\n",
        "#                               patience =10,\n",
        "#                               verbose = 0,\n",
        "#                               mode='max')"
      ],
      "metadata": {
        "id": "5ibYdT6cubIT"
      },
      "execution_count": null,
      "outputs": []
    },
    {
      "cell_type": "code",
      "source": [
        "fit=cnn.fit(X_train, Y_train, epochs=epoch,batch_size =batch_size,validation_data=(X_test, Y_test))"
      ],
      "metadata": {
        "colab": {
          "base_uri": "https://localhost:8080/"
        },
        "id": "wik-lYWeuejZ",
        "outputId": "e328f683-9eca-4d73-f832-65fdf9fbc59a"
      },
      "execution_count": null,
      "outputs": [
        {
          "output_type": "stream",
          "name": "stdout",
          "text": [
            "Epoch 1/100\n",
            "366/366 [==============================] - 3s 6ms/step - loss: 0.7894 - accuracy: 0.5116 - val_loss: 0.7713 - val_accuracy: 0.5123\n",
            "Epoch 2/100\n",
            "366/366 [==============================] - 2s 6ms/step - loss: 0.7490 - accuracy: 0.5434 - val_loss: 0.7388 - val_accuracy: 0.5779\n",
            "Epoch 3/100\n",
            "366/366 [==============================] - 2s 5ms/step - loss: 0.7204 - accuracy: 0.5886 - val_loss: 0.7181 - val_accuracy: 0.6011\n",
            "Epoch 4/100\n",
            "366/366 [==============================] - 2s 5ms/step - loss: 0.7025 - accuracy: 0.6043 - val_loss: 0.7088 - val_accuracy: 0.6025\n",
            "Epoch 5/100\n",
            "366/366 [==============================] - 2s 6ms/step - loss: 0.6962 - accuracy: 0.5995 - val_loss: 0.7023 - val_accuracy: 0.5943\n",
            "Epoch 6/100\n",
            "366/366 [==============================] - 2s 6ms/step - loss: 0.6917 - accuracy: 0.6009 - val_loss: 0.6990 - val_accuracy: 0.5820\n",
            "Epoch 7/100\n",
            "366/366 [==============================] - 2s 6ms/step - loss: 0.6875 - accuracy: 0.6084 - val_loss: 0.6963 - val_accuracy: 0.5861\n",
            "Epoch 8/100\n",
            "366/366 [==============================] - 2s 5ms/step - loss: 0.6836 - accuracy: 0.6040 - val_loss: 0.6909 - val_accuracy: 0.6025\n",
            "Epoch 9/100\n",
            "366/366 [==============================] - 2s 6ms/step - loss: 0.6775 - accuracy: 0.6098 - val_loss: 0.6869 - val_accuracy: 0.5997\n",
            "Epoch 10/100\n",
            "366/366 [==============================] - 2s 5ms/step - loss: 0.6736 - accuracy: 0.6139 - val_loss: 0.6858 - val_accuracy: 0.6120\n",
            "Epoch 11/100\n",
            "366/366 [==============================] - 2s 5ms/step - loss: 0.6698 - accuracy: 0.6146 - val_loss: 0.6827 - val_accuracy: 0.6025\n",
            "Epoch 12/100\n",
            "366/366 [==============================] - 2s 5ms/step - loss: 0.6636 - accuracy: 0.6262 - val_loss: 0.6784 - val_accuracy: 0.6202\n",
            "Epoch 13/100\n",
            "366/366 [==============================] - 2s 6ms/step - loss: 0.6616 - accuracy: 0.6324 - val_loss: 0.6767 - val_accuracy: 0.6148\n",
            "Epoch 14/100\n",
            "366/366 [==============================] - 2s 6ms/step - loss: 0.6574 - accuracy: 0.6324 - val_loss: 0.6768 - val_accuracy: 0.6284\n",
            "Epoch 15/100\n",
            "366/366 [==============================] - 2s 6ms/step - loss: 0.6533 - accuracy: 0.6279 - val_loss: 0.6701 - val_accuracy: 0.6038\n",
            "Epoch 16/100\n",
            "366/366 [==============================] - 2s 5ms/step - loss: 0.6512 - accuracy: 0.6395 - val_loss: 0.6711 - val_accuracy: 0.6066\n",
            "Epoch 17/100\n",
            "366/366 [==============================] - 2s 5ms/step - loss: 0.6508 - accuracy: 0.6375 - val_loss: 0.6665 - val_accuracy: 0.6325\n",
            "Epoch 18/100\n",
            "366/366 [==============================] - 2s 5ms/step - loss: 0.6488 - accuracy: 0.6382 - val_loss: 0.6638 - val_accuracy: 0.6339\n",
            "Epoch 19/100\n",
            "366/366 [==============================] - 2s 5ms/step - loss: 0.6456 - accuracy: 0.6512 - val_loss: 0.6668 - val_accuracy: 0.6270\n",
            "Epoch 20/100\n",
            "366/366 [==============================] - 2s 5ms/step - loss: 0.6439 - accuracy: 0.6457 - val_loss: 0.6616 - val_accuracy: 0.6366\n",
            "Epoch 21/100\n",
            "366/366 [==============================] - 2s 6ms/step - loss: 0.6413 - accuracy: 0.6460 - val_loss: 0.6565 - val_accuracy: 0.6434\n",
            "Epoch 22/100\n",
            "366/366 [==============================] - 2s 5ms/step - loss: 0.6409 - accuracy: 0.6440 - val_loss: 0.6534 - val_accuracy: 0.6503\n",
            "Epoch 23/100\n",
            "366/366 [==============================] - 2s 6ms/step - loss: 0.6411 - accuracy: 0.6481 - val_loss: 0.6534 - val_accuracy: 0.6448\n",
            "Epoch 24/100\n",
            "366/366 [==============================] - 2s 6ms/step - loss: 0.6339 - accuracy: 0.6515 - val_loss: 0.6557 - val_accuracy: 0.6380\n",
            "Epoch 25/100\n",
            "366/366 [==============================] - 2s 5ms/step - loss: 0.6357 - accuracy: 0.6539 - val_loss: 0.6507 - val_accuracy: 0.6516\n",
            "Epoch 26/100\n",
            "366/366 [==============================] - 2s 5ms/step - loss: 0.6328 - accuracy: 0.6669 - val_loss: 0.6486 - val_accuracy: 0.6530\n",
            "Epoch 27/100\n",
            "366/366 [==============================] - 2s 5ms/step - loss: 0.6335 - accuracy: 0.6532 - val_loss: 0.6479 - val_accuracy: 0.6503\n",
            "Epoch 28/100\n",
            "366/366 [==============================] - 2s 6ms/step - loss: 0.6321 - accuracy: 0.6611 - val_loss: 0.6439 - val_accuracy: 0.6557\n",
            "Epoch 29/100\n",
            "366/366 [==============================] - 2s 5ms/step - loss: 0.6282 - accuracy: 0.6611 - val_loss: 0.6449 - val_accuracy: 0.6503\n",
            "Epoch 30/100\n",
            "366/366 [==============================] - 2s 5ms/step - loss: 0.6287 - accuracy: 0.6590 - val_loss: 0.6474 - val_accuracy: 0.6530\n",
            "Epoch 31/100\n",
            "366/366 [==============================] - 2s 5ms/step - loss: 0.6289 - accuracy: 0.6542 - val_loss: 0.6446 - val_accuracy: 0.6544\n",
            "Epoch 32/100\n",
            "366/366 [==============================] - 2s 6ms/step - loss: 0.6238 - accuracy: 0.6570 - val_loss: 0.6443 - val_accuracy: 0.6475\n",
            "Epoch 33/100\n",
            "366/366 [==============================] - 2s 5ms/step - loss: 0.6216 - accuracy: 0.6638 - val_loss: 0.6410 - val_accuracy: 0.6653\n",
            "Epoch 34/100\n",
            "366/366 [==============================] - 2s 5ms/step - loss: 0.6195 - accuracy: 0.6659 - val_loss: 0.6361 - val_accuracy: 0.6639\n",
            "Epoch 35/100\n",
            "366/366 [==============================] - 2s 6ms/step - loss: 0.6162 - accuracy: 0.6710 - val_loss: 0.6500 - val_accuracy: 0.6311\n",
            "Epoch 36/100\n",
            "366/366 [==============================] - 2s 6ms/step - loss: 0.6189 - accuracy: 0.6700 - val_loss: 0.6671 - val_accuracy: 0.6339\n",
            "Epoch 37/100\n",
            "366/366 [==============================] - 2s 6ms/step - loss: 0.6144 - accuracy: 0.6734 - val_loss: 0.6356 - val_accuracy: 0.6585\n",
            "Epoch 38/100\n",
            "366/366 [==============================] - 2s 5ms/step - loss: 0.6138 - accuracy: 0.6761 - val_loss: 0.6312 - val_accuracy: 0.6557\n",
            "Epoch 39/100\n",
            "366/366 [==============================] - 2s 5ms/step - loss: 0.6127 - accuracy: 0.6751 - val_loss: 0.6318 - val_accuracy: 0.6516\n",
            "Epoch 40/100\n",
            "366/366 [==============================] - 2s 5ms/step - loss: 0.6074 - accuracy: 0.6772 - val_loss: 0.6295 - val_accuracy: 0.6557\n",
            "Epoch 41/100\n",
            "366/366 [==============================] - 2s 6ms/step - loss: 0.6095 - accuracy: 0.6778 - val_loss: 0.6334 - val_accuracy: 0.6598\n",
            "Epoch 42/100\n",
            "366/366 [==============================] - 2s 5ms/step - loss: 0.6060 - accuracy: 0.6799 - val_loss: 0.6382 - val_accuracy: 0.6421\n",
            "Epoch 43/100\n",
            "366/366 [==============================] - 2s 6ms/step - loss: 0.6083 - accuracy: 0.6813 - val_loss: 0.6307 - val_accuracy: 0.6735\n",
            "Epoch 44/100\n",
            "366/366 [==============================] - 2s 5ms/step - loss: 0.5988 - accuracy: 0.6843 - val_loss: 0.6267 - val_accuracy: 0.6475\n",
            "Epoch 45/100\n",
            "366/366 [==============================] - 2s 5ms/step - loss: 0.6015 - accuracy: 0.6960 - val_loss: 0.6269 - val_accuracy: 0.6571\n",
            "Epoch 46/100\n",
            "366/366 [==============================] - 2s 6ms/step - loss: 0.5988 - accuracy: 0.6929 - val_loss: 0.6200 - val_accuracy: 0.6708\n",
            "Epoch 47/100\n",
            "366/366 [==============================] - 2s 6ms/step - loss: 0.5967 - accuracy: 0.6908 - val_loss: 0.6235 - val_accuracy: 0.6571\n",
            "Epoch 48/100\n",
            "366/366 [==============================] - 2s 6ms/step - loss: 0.5998 - accuracy: 0.6864 - val_loss: 0.6168 - val_accuracy: 0.6694\n",
            "Epoch 49/100\n",
            "366/366 [==============================] - 2s 5ms/step - loss: 0.5998 - accuracy: 0.6919 - val_loss: 0.6284 - val_accuracy: 0.6544\n",
            "Epoch 50/100\n",
            "366/366 [==============================] - 2s 5ms/step - loss: 0.5975 - accuracy: 0.6850 - val_loss: 0.6218 - val_accuracy: 0.6571\n",
            "Epoch 51/100\n",
            "366/366 [==============================] - 2s 6ms/step - loss: 0.5948 - accuracy: 0.6898 - val_loss: 0.6148 - val_accuracy: 0.6803\n",
            "Epoch 52/100\n",
            "366/366 [==============================] - 2s 5ms/step - loss: 0.5962 - accuracy: 0.6929 - val_loss: 0.6332 - val_accuracy: 0.6448\n",
            "Epoch 53/100\n",
            "366/366 [==============================] - 2s 6ms/step - loss: 0.5952 - accuracy: 0.6871 - val_loss: 0.6177 - val_accuracy: 0.6667\n",
            "Epoch 54/100\n",
            "366/366 [==============================] - 2s 5ms/step - loss: 0.5894 - accuracy: 0.7014 - val_loss: 0.6191 - val_accuracy: 0.6639\n",
            "Epoch 55/100\n",
            "366/366 [==============================] - 2s 5ms/step - loss: 0.5896 - accuracy: 0.7055 - val_loss: 0.6154 - val_accuracy: 0.6639\n",
            "Epoch 56/100\n",
            "366/366 [==============================] - 2s 5ms/step - loss: 0.5861 - accuracy: 0.7021 - val_loss: 0.6399 - val_accuracy: 0.6489\n",
            "Epoch 57/100\n",
            "366/366 [==============================] - 2s 6ms/step - loss: 0.5878 - accuracy: 0.6932 - val_loss: 0.6130 - val_accuracy: 0.6844\n",
            "Epoch 58/100\n",
            "366/366 [==============================] - 3s 8ms/step - loss: 0.5927 - accuracy: 0.6966 - val_loss: 0.6262 - val_accuracy: 0.6653\n",
            "Epoch 59/100\n",
            "366/366 [==============================] - 4s 10ms/step - loss: 0.5865 - accuracy: 0.6956 - val_loss: 0.6181 - val_accuracy: 0.6585\n",
            "Epoch 60/100\n",
            "366/366 [==============================] - 3s 8ms/step - loss: 0.5869 - accuracy: 0.7014 - val_loss: 0.6121 - val_accuracy: 0.6721\n",
            "Epoch 61/100\n",
            "366/366 [==============================] - 4s 10ms/step - loss: 0.5851 - accuracy: 0.7083 - val_loss: 0.6206 - val_accuracy: 0.6585\n",
            "Epoch 62/100\n",
            "366/366 [==============================] - 3s 8ms/step - loss: 0.5852 - accuracy: 0.6929 - val_loss: 0.6226 - val_accuracy: 0.6434\n",
            "Epoch 63/100\n",
            "366/366 [==============================] - 4s 10ms/step - loss: 0.5778 - accuracy: 0.7066 - val_loss: 0.6184 - val_accuracy: 0.6530\n",
            "Epoch 64/100\n",
            "366/366 [==============================] - 3s 7ms/step - loss: 0.5843 - accuracy: 0.6990 - val_loss: 0.6084 - val_accuracy: 0.6694\n",
            "Epoch 65/100\n",
            "366/366 [==============================] - 2s 5ms/step - loss: 0.5786 - accuracy: 0.7004 - val_loss: 0.6182 - val_accuracy: 0.6557\n",
            "Epoch 66/100\n",
            "366/366 [==============================] - 2s 5ms/step - loss: 0.5828 - accuracy: 0.7018 - val_loss: 0.6259 - val_accuracy: 0.6653\n",
            "Epoch 67/100\n",
            "366/366 [==============================] - 2s 6ms/step - loss: 0.5769 - accuracy: 0.7076 - val_loss: 0.6098 - val_accuracy: 0.6735\n",
            "Epoch 68/100\n",
            "366/366 [==============================] - 2s 6ms/step - loss: 0.5776 - accuracy: 0.7110 - val_loss: 0.6082 - val_accuracy: 0.6708\n",
            "Epoch 69/100\n",
            "366/366 [==============================] - 2s 5ms/step - loss: 0.5733 - accuracy: 0.7049 - val_loss: 0.6170 - val_accuracy: 0.6598\n",
            "Epoch 70/100\n",
            "366/366 [==============================] - 2s 5ms/step - loss: 0.5729 - accuracy: 0.7110 - val_loss: 0.6049 - val_accuracy: 0.6790\n",
            "Epoch 71/100\n",
            "366/366 [==============================] - 2s 6ms/step - loss: 0.5704 - accuracy: 0.7148 - val_loss: 0.6337 - val_accuracy: 0.6612\n",
            "Epoch 72/100\n",
            "366/366 [==============================] - 2s 6ms/step - loss: 0.5701 - accuracy: 0.7090 - val_loss: 0.6233 - val_accuracy: 0.6489\n",
            "Epoch 73/100\n",
            "366/366 [==============================] - 2s 5ms/step - loss: 0.5707 - accuracy: 0.7240 - val_loss: 0.6351 - val_accuracy: 0.6585\n",
            "Epoch 74/100\n",
            "366/366 [==============================] - 2s 6ms/step - loss: 0.5635 - accuracy: 0.7206 - val_loss: 0.6180 - val_accuracy: 0.6626\n",
            "Epoch 75/100\n",
            "366/366 [==============================] - 2s 6ms/step - loss: 0.5674 - accuracy: 0.7103 - val_loss: 0.6041 - val_accuracy: 0.6776\n",
            "Epoch 76/100\n",
            "366/366 [==============================] - 2s 5ms/step - loss: 0.5682 - accuracy: 0.7148 - val_loss: 0.6178 - val_accuracy: 0.6585\n",
            "Epoch 77/100\n",
            "366/366 [==============================] - 2s 5ms/step - loss: 0.5625 - accuracy: 0.7120 - val_loss: 0.6116 - val_accuracy: 0.6749\n",
            "Epoch 78/100\n",
            "366/366 [==============================] - 2s 5ms/step - loss: 0.5669 - accuracy: 0.7230 - val_loss: 0.6198 - val_accuracy: 0.6475\n",
            "Epoch 79/100\n",
            "366/366 [==============================] - 2s 5ms/step - loss: 0.5558 - accuracy: 0.7127 - val_loss: 0.6108 - val_accuracy: 0.6803\n",
            "Epoch 80/100\n",
            "366/366 [==============================] - 2s 6ms/step - loss: 0.5659 - accuracy: 0.7168 - val_loss: 0.6110 - val_accuracy: 0.6475\n",
            "Epoch 81/100\n",
            "366/366 [==============================] - 2s 5ms/step - loss: 0.5597 - accuracy: 0.7223 - val_loss: 0.6070 - val_accuracy: 0.6585\n",
            "Epoch 82/100\n",
            "366/366 [==============================] - 2s 6ms/step - loss: 0.5580 - accuracy: 0.7216 - val_loss: 0.5946 - val_accuracy: 0.6626\n",
            "Epoch 83/100\n",
            "366/366 [==============================] - 2s 6ms/step - loss: 0.5542 - accuracy: 0.7237 - val_loss: 0.6052 - val_accuracy: 0.6653\n",
            "Epoch 84/100\n",
            "366/366 [==============================] - 2s 5ms/step - loss: 0.5555 - accuracy: 0.7250 - val_loss: 0.5981 - val_accuracy: 0.6803\n",
            "Epoch 85/100\n",
            "366/366 [==============================] - 2s 6ms/step - loss: 0.5561 - accuracy: 0.7247 - val_loss: 0.6123 - val_accuracy: 0.6749\n",
            "Epoch 86/100\n",
            "366/366 [==============================] - 2s 6ms/step - loss: 0.5540 - accuracy: 0.7329 - val_loss: 0.6022 - val_accuracy: 0.6694\n",
            "Epoch 87/100\n",
            "366/366 [==============================] - 2s 6ms/step - loss: 0.5525 - accuracy: 0.7271 - val_loss: 0.6116 - val_accuracy: 0.6571\n",
            "Epoch 88/100\n",
            "366/366 [==============================] - 2s 5ms/step - loss: 0.5509 - accuracy: 0.7302 - val_loss: 0.5955 - val_accuracy: 0.6598\n",
            "Epoch 89/100\n",
            "366/366 [==============================] - 2s 5ms/step - loss: 0.5503 - accuracy: 0.7288 - val_loss: 0.6041 - val_accuracy: 0.6612\n",
            "Epoch 90/100\n",
            "366/366 [==============================] - 2s 6ms/step - loss: 0.5511 - accuracy: 0.7240 - val_loss: 0.5998 - val_accuracy: 0.6585\n",
            "Epoch 91/100\n",
            "366/366 [==============================] - 2s 5ms/step - loss: 0.5426 - accuracy: 0.7346 - val_loss: 0.6082 - val_accuracy: 0.6585\n",
            "Epoch 92/100\n",
            "366/366 [==============================] - 2s 5ms/step - loss: 0.5418 - accuracy: 0.7384 - val_loss: 0.6086 - val_accuracy: 0.6626\n",
            "Epoch 93/100\n",
            "366/366 [==============================] - 2s 6ms/step - loss: 0.5478 - accuracy: 0.7298 - val_loss: 0.6057 - val_accuracy: 0.6708\n",
            "Epoch 94/100\n",
            "366/366 [==============================] - 2s 5ms/step - loss: 0.5475 - accuracy: 0.7285 - val_loss: 0.6083 - val_accuracy: 0.6598\n",
            "Epoch 95/100\n",
            "366/366 [==============================] - 2s 6ms/step - loss: 0.5457 - accuracy: 0.7339 - val_loss: 0.5973 - val_accuracy: 0.6571\n",
            "Epoch 96/100\n",
            "366/366 [==============================] - 2s 6ms/step - loss: 0.5384 - accuracy: 0.7343 - val_loss: 0.6186 - val_accuracy: 0.6585\n",
            "Epoch 97/100\n",
            "366/366 [==============================] - 2s 6ms/step - loss: 0.5407 - accuracy: 0.7401 - val_loss: 0.6204 - val_accuracy: 0.6872\n",
            "Epoch 98/100\n",
            "366/366 [==============================] - 2s 6ms/step - loss: 0.5486 - accuracy: 0.7343 - val_loss: 0.6092 - val_accuracy: 0.6571\n",
            "Epoch 99/100\n",
            "366/366 [==============================] - 2s 5ms/step - loss: 0.5384 - accuracy: 0.7356 - val_loss: 0.6090 - val_accuracy: 0.6776\n",
            "Epoch 100/100\n",
            "366/366 [==============================] - 2s 6ms/step - loss: 0.5383 - accuracy: 0.7421 - val_loss: 0.5982 - val_accuracy: 0.6721\n"
          ]
        }
      ]
    },
    {
      "cell_type": "code",
      "source": [
        "score=cnn.evaluate(X_test,Y_test)"
      ],
      "metadata": {
        "colab": {
          "base_uri": "https://localhost:8080/"
        },
        "id": "JR19zq6wujca",
        "outputId": "3b27be29-3936-402f-97e5-da5098fd68b6"
      },
      "execution_count": null,
      "outputs": [
        {
          "output_type": "stream",
          "name": "stdout",
          "text": [
            "23/23 [==============================] - 0s 7ms/step - loss: 0.5982 - accuracy: 0.6721\n"
          ]
        }
      ]
    },
    {
      "cell_type": "code",
      "source": [
        "# model accuracy\n",
        "print(\"Accuracy:%.2f%%\" % (score[1]*100))"
      ],
      "metadata": {
        "colab": {
          "base_uri": "https://localhost:8080/"
        },
        "id": "0_sPpMn6wOE0",
        "outputId": "66608b0e-9c18-4d5a-e42b-2dd207c2a5b6"
      },
      "execution_count": null,
      "outputs": [
        {
          "output_type": "stream",
          "name": "stdout",
          "text": [
            "Accuracy:67.21%\n"
          ]
        }
      ]
    },
    {
      "cell_type": "code",
      "source": [
        "print(fit.history.keys())"
      ],
      "metadata": {
        "colab": {
          "base_uri": "https://localhost:8080/"
        },
        "id": "s6913mUmwZSQ",
        "outputId": "911e3f48-6f37-4fc4-b5b0-9d333e6de7b8"
      },
      "execution_count": null,
      "outputs": [
        {
          "output_type": "stream",
          "name": "stdout",
          "text": [
            "dict_keys(['loss', 'accuracy', 'val_loss', 'val_accuracy'])\n"
          ]
        }
      ]
    },
    {
      "cell_type": "code",
      "source": [
        "plt.plot(fit.history['accuracy'])\n",
        "plt.plot(fit.history['val_accuracy'])\n",
        "plt.title('model accuracy')\n",
        "plt.ylabel('accuracy')\n",
        "plt.xlabel('epoch')\n",
        "plt.legend(['train_acc', 'test_acc'], loc='upper left')\n",
        "plt.show()"
      ],
      "metadata": {
        "colab": {
          "base_uri": "https://localhost:8080/",
          "height": 295
        },
        "id": "P-xFk6hgwiv2",
        "outputId": "2601dc6a-f7ea-46c7-cf18-f3abd066b94f"
      },
      "execution_count": null,
      "outputs": [
        {
          "output_type": "display_data",
          "data": {
            "text/plain": [
              "<Figure size 432x288 with 1 Axes>"
            ],
            "image/png": "[encoded data removed]"
          },
          "metadata": {
            "needs_background": "light"
          }
        }
      ]
    },
    {
      "cell_type": "code",
      "source": [
        "plt.plot(fit.history['loss'])\n",
        "plt.plot(fit.history['val_loss'])\n",
        "plt.title('model loss')\n",
        "plt.ylabel('loss')\n",
        "plt.xlabel('epoch')\n",
        "plt.legend(['train_loss', 'test_loss'], loc='upper left')\n",
        "plt.show()"
      ],
      "metadata": {
        "colab": {
          "base_uri": "https://localhost:8080/",
          "height": 295
        },
        "id": "Ttfge498wp7W",
        "outputId": "20d1388f-e6f1-49d5-efc1-98c42b955891"
      },
      "execution_count": null,
      "outputs": [
        {
          "output_type": "display_data",
          "data": {
            "text/plain": [
              "<Figure size 432x288 with 1 Axes>"
            ],
            "image/png": "[encoded data removed]"
          },
          "metadata": {
            "needs_background": "light"
          }
        }
      ]
    },
    {
      "cell_type": "code",
      "source": [
        "y_pred = cnn.predict(X_test)\n",
        "y_pred[:5]"
      ],
      "metadata": {
        "colab": {
          "base_uri": "https://localhost:8080/"
        },
        "id": "5uqE2paCwzPl",
        "outputId": "1f3a07f8-95b0-4d90-94a3-a374cd50df8c"
      },
      "execution_count": null,
      "outputs": [
        {
          "output_type": "execute_result",
          "data": {
            "text/plain": [
              "array([[0.24559455, 0.75440544],\n",
              "       [0.8627312 , 0.13726877],\n",
              "       [0.9553998 , 0.04460016],\n",
              "       [0.84352684, 0.15647317],\n",
              "       [0.25945258, 0.7405474 ]], dtype=float32)"
            ]
          },
          "metadata": {},
          "execution_count": 148
        }
      ]
    },
    {
      "cell_type": "code",
      "source": [
        "y_pred=[np.argmax(element) for element in y_pred]\n",
        "y_pred[:10]"
      ],
      "metadata": {
        "colab": {
          "base_uri": "https://localhost:8080/"
        },
        "id": "2plssilLxBZm",
        "outputId": "01debc0d-6618-4883-c534-e8a6cc2dcb1e"
      },
      "execution_count": null,
      "outputs": [
        {
          "output_type": "execute_result",
          "data": {
            "text/plain": [
              "[1, 0, 0, 0, 1, 1, 1, 1, 1, 1]"
            ]
          },
          "metadata": {},
          "execution_count": 149
        }
      ]
    },
    {
      "cell_type": "code",
      "source": [
        "y_test=[np.argmax(element) for element in Y_test]\n",
        "y_test[:10]"
      ],
      "metadata": {
        "colab": {
          "base_uri": "https://localhost:8080/"
        },
        "id": "eQqqxpRIxIr4",
        "outputId": "3498735b-dab4-4fcb-f874-090f4987e07b"
      },
      "execution_count": null,
      "outputs": [
        {
          "output_type": "execute_result",
          "data": {
            "text/plain": [
              "[0, 0, 0, 1, 0, 1, 1, 1, 1, 1]"
            ]
          },
          "metadata": {},
          "execution_count": 150
        }
      ]
    },
    {
      "cell_type": "code",
      "source": [
        "def perf_measure(y_actual, y_hat):\n",
        "    TP = 0\n",
        "    FP = 0\n",
        "    TN = 0\n",
        "    FN = 0\n",
        "\n",
        "    for i in range(len(y_hat)): \n",
        "        if y_actual[i]==y_hat[i]==1:\n",
        "           TP += 1\n",
        "        if y_hat[i]==1 and y_actual[i]!=y_hat[i]:\n",
        "           FP += 1\n",
        "        if y_actual[i]==y_hat[i]==0:\n",
        "           TN += 1\n",
        "        if y_hat[i]==0 and y_actual[i]!=y_hat[i]:\n",
        "           FN += 1\n",
        "    return(TP, FP, TN, FN)\n",
        "\n",
        "\n",
        "tp, fp, tn, fn =perf_measure(y_test,y_pred)    \n",
        "print(\"TP: \",tp);    \n",
        "print(\"FP: \",fp);  \n",
        "print(\"TN: \",tn);  \n",
        "print(\"FN: \",fn);  "
      ],
      "metadata": {
        "colab": {
          "base_uri": "https://localhost:8080/"
        },
        "id": "SVLFbxAcxRK9",
        "outputId": "179d31d9-7b3c-4038-982f-9b637a1a0650"
      },
      "execution_count": null,
      "outputs": [
        {
          "output_type": "stream",
          "name": "stdout",
          "text": [
            "TP:  216\n",
            "FP:  103\n",
            "TN:  276\n",
            "FN:  137\n"
          ]
        }
      ]
    },
    {
      "cell_type": "code",
      "source": [
        "matrix=tf.math.confusion_matrix(labels=y_test,predictions=y_pred)\n",
        "matrix"
      ],
      "metadata": {
        "colab": {
          "base_uri": "https://localhost:8080/"
        },
        "id": "f1x_a6xBxZ95",
        "outputId": "87bc16a3-45e9-4532-cb92-561cf64df4ce"
      },
      "execution_count": null,
      "outputs": [
        {
          "output_type": "execute_result",
          "data": {
            "text/plain": [
              "<tf.Tensor: shape=(2, 2), dtype=int32, numpy=\n",
              "array([[276, 103],\n",
              "       [137, 216]], dtype=int32)>"
            ]
          },
          "metadata": {},
          "execution_count": 152
        }
      ]
    },
    {
      "cell_type": "code",
      "source": [
        "from sklearn.metrics import classification_report\n",
        "\n",
        "print(classification_report(y_test, y_pred)) "
      ],
      "metadata": {
        "colab": {
          "base_uri": "https://localhost:8080/"
        },
        "id": "uhmmxWXixhbM",
        "outputId": "8c55c4bb-9e18-4084-d4a3-cfdc20534142"
      },
      "execution_count": null,
      "outputs": [
        {
          "output_type": "stream",
          "name": "stdout",
          "text": [
            "              precision    recall  f1-score   support\n",
            "\n",
            "           0       0.67      0.73      0.70       379\n",
            "           1       0.68      0.61      0.64       353\n",
            "\n",
            "    accuracy                           0.67       732\n",
            "   macro avg       0.67      0.67      0.67       732\n",
            "weighted avg       0.67      0.67      0.67       732\n",
            "\n"
          ]
        }
      ]
    },
    {
      "cell_type": "code",
      "source": [
        "import seaborn as sns\n",
        "plt.figure(figsize=(10,7))\n",
        "sns.heatmap(matrix,annot=True,fmt=\"d\")\n",
        "plt.xlabel('predicted')\n",
        "plt.ylabel('Truth')"
      ],
      "metadata": {
        "colab": {
          "base_uri": "https://localhost:8080/",
          "height": 459
        },
        "id": "FdqKP3GCx1LQ",
        "outputId": "d71199fd-b671-4b40-b125-153f4e286232"
      },
      "execution_count": null,
      "outputs": [
        {
          "output_type": "execute_result",
          "data": {
            "text/plain": [
              "Text(69.0, 0.5, 'Truth')"
            ]
          },
          "metadata": {},
          "execution_count": 154
        },
        {
          "output_type": "display_data",
          "data": {
            "text/plain": [
              "<Figure size 720x504 with 2 Axes>"
            ],
            "image/png": "[encoded data removed]"
          },
          "metadata": {
            "needs_background": "light"
          }
        }
      ]
    },
    {
      "cell_type": "code",
      "source": [
        "classes=[\"splice\",\"Forged\"]"
      ],
      "metadata": {
        "id": "XCaIg9f8x_qu"
      },
      "execution_count": null,
      "outputs": []
    },
    {
      "cell_type": "code",
      "source": [
        "classes[y_pred[2]]\n"
      ],
      "metadata": {
        "colab": {
          "base_uri": "https://localhost:8080/",
          "height": 36
        },
        "id": "A0eBH7FmyLWJ",
        "outputId": "d165e377-1ea2-451b-9736-9665067f0ca7"
      },
      "execution_count": null,
      "outputs": [
        {
          "output_type": "execute_result",
          "data": {
            "text/plain": [
              "'splice'"
            ],
            "application/vnd.google.colaboratory.intrinsic+json": {
              "type": "string"
            }
          },
          "metadata": {},
          "execution_count": 156
        }
      ]
    },
    {
      "cell_type": "code",
      "source": [
        "classes[y_test[2]]"
      ],
      "metadata": {
        "colab": {
          "base_uri": "https://localhost:8080/",
          "height": 36
        },
        "id": "EP4rrdU8yUWu",
        "outputId": "6c4b46b5-6814-4d3c-fff6-e0cd2efc1d08"
      },
      "execution_count": null,
      "outputs": [
        {
          "output_type": "execute_result",
          "data": {
            "text/plain": [
              "'splice'"
            ],
            "application/vnd.google.colaboratory.intrinsic+json": {
              "type": "string"
            }
          },
          "metadata": {},
          "execution_count": 157
        }
      ]
    },
    {
      "cell_type": "code",
      "source": [
        ""
      ],
      "metadata": {
        "id": "q8qer1rSysHX"
      },
      "execution_count": null,
      "outputs": []
    }
  ],
  "metadata": {
    "colab": {
      "machine_shape": "hm",
      "name": "InternProject.ipynb",
      "provenance": [],
      "collapsed_sections": []
    },
    "gpuClass": "standard",
    "kernelspec": {
      "display_name": "Python 3",
      "name": "python3"
    },
    "language_info": {
      "name": "python"
    },
    "accelerator": "GPU"
  },
  "nbformat": 4,
  "nbformat_minor": 0
}